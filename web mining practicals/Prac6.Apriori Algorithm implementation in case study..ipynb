{
 "cells": [
  {
   "cell_type": "code",
   "execution_count": 2,
   "metadata": {},
   "outputs": [
    {
     "name": "stdout",
     "output_type": "stream",
     "text": [
      "25\n",
      "[RelationRecord(items=frozenset({'Apple'}), support=0.7, ordered_statistics=[OrderedStatistic(items_base=frozenset(), items_add=frozenset({'Apple'}), confidence=0.7, lift=1.0)]), RelationRecord(items=frozenset({'Bread'}), support=0.75, ordered_statistics=[OrderedStatistic(items_base=frozenset(), items_add=frozenset({'Bread'}), confidence=0.75, lift=1.0)]), RelationRecord(items=frozenset({'Butter'}), support=0.75, ordered_statistics=[OrderedStatistic(items_base=frozenset(), items_add=frozenset({'Butter'}), confidence=0.75, lift=1.0)]), RelationRecord(items=frozenset({'Milk'}), support=0.8, ordered_statistics=[OrderedStatistic(items_base=frozenset(), items_add=frozenset({'Milk'}), confidence=0.8, lift=1.0)]), RelationRecord(items=frozenset({'Wine'}), support=0.75, ordered_statistics=[OrderedStatistic(items_base=frozenset(), items_add=frozenset({'Wine'}), confidence=0.75, lift=1.0)]), RelationRecord(items=frozenset({'nan'}), support=0.8, ordered_statistics=[OrderedStatistic(items_base=frozenset(), items_add=frozenset({'nan'}), confidence=0.8, lift=1.0)]), RelationRecord(items=frozenset({'Apple', 'Bread'}), support=0.55, ordered_statistics=[OrderedStatistic(items_base=frozenset({'Apple'}), items_add=frozenset({'Bread'}), confidence=0.7857142857142858, lift=1.0476190476190477), OrderedStatistic(items_base=frozenset({'Bread'}), items_add=frozenset({'Apple'}), confidence=0.7333333333333334, lift=1.0476190476190477)]), RelationRecord(items=frozenset({'Butter', 'Apple'}), support=0.55, ordered_statistics=[OrderedStatistic(items_base=frozenset({'Apple'}), items_add=frozenset({'Butter'}), confidence=0.7857142857142858, lift=1.0476190476190477), OrderedStatistic(items_base=frozenset({'Butter'}), items_add=frozenset({'Apple'}), confidence=0.7333333333333334, lift=1.0476190476190477)]), RelationRecord(items=frozenset({'Apple', 'Milk'}), support=0.5, ordered_statistics=[OrderedStatistic(items_base=frozenset({'Apple'}), items_add=frozenset({'Milk'}), confidence=0.7142857142857143, lift=0.8928571428571428)]), RelationRecord(items=frozenset({'Apple', 'Wine'}), support=0.5, ordered_statistics=[OrderedStatistic(items_base=frozenset({'Apple'}), items_add=frozenset({'Wine'}), confidence=0.7142857142857143, lift=0.9523809523809524)]), RelationRecord(items=frozenset({'Apple', 'nan'}), support=0.5, ordered_statistics=[OrderedStatistic(items_base=frozenset({'Apple'}), items_add=frozenset({'nan'}), confidence=0.7142857142857143, lift=0.8928571428571428)]), RelationRecord(items=frozenset({'Butter', 'Bread'}), support=0.65, ordered_statistics=[OrderedStatistic(items_base=frozenset({'Bread'}), items_add=frozenset({'Butter'}), confidence=0.8666666666666667, lift=1.1555555555555557), OrderedStatistic(items_base=frozenset({'Butter'}), items_add=frozenset({'Bread'}), confidence=0.8666666666666667, lift=1.1555555555555557)]), RelationRecord(items=frozenset({'Milk', 'Bread'}), support=0.6, ordered_statistics=[OrderedStatistic(items_base=frozenset({'Bread'}), items_add=frozenset({'Milk'}), confidence=0.7999999999999999, lift=0.9999999999999999), OrderedStatistic(items_base=frozenset({'Milk'}), items_add=frozenset({'Bread'}), confidence=0.7499999999999999, lift=0.9999999999999999)]), RelationRecord(items=frozenset({'Bread', 'Wine'}), support=0.6, ordered_statistics=[OrderedStatistic(items_base=frozenset({'Bread'}), items_add=frozenset({'Wine'}), confidence=0.7999999999999999, lift=1.0666666666666667), OrderedStatistic(items_base=frozenset({'Wine'}), items_add=frozenset({'Bread'}), confidence=0.7999999999999999, lift=1.0666666666666667)]), RelationRecord(items=frozenset({'nan', 'Bread'}), support=0.55, ordered_statistics=[OrderedStatistic(items_base=frozenset({'Bread'}), items_add=frozenset({'nan'}), confidence=0.7333333333333334, lift=0.9166666666666667)]), RelationRecord(items=frozenset({'Butter', 'Milk'}), support=0.65, ordered_statistics=[OrderedStatistic(items_base=frozenset({'Butter'}), items_add=frozenset({'Milk'}), confidence=0.8666666666666667, lift=1.0833333333333333), OrderedStatistic(items_base=frozenset({'Milk'}), items_add=frozenset({'Butter'}), confidence=0.8125, lift=1.0833333333333333)]), RelationRecord(items=frozenset({'Butter', 'Wine'}), support=0.55, ordered_statistics=[OrderedStatistic(items_base=frozenset({'Butter'}), items_add=frozenset({'Wine'}), confidence=0.7333333333333334, lift=0.9777777777777779), OrderedStatistic(items_base=frozenset({'Wine'}), items_add=frozenset({'Butter'}), confidence=0.7333333333333334, lift=0.9777777777777779)]), RelationRecord(items=frozenset({'Butter', 'nan'}), support=0.55, ordered_statistics=[OrderedStatistic(items_base=frozenset({'Butter'}), items_add=frozenset({'nan'}), confidence=0.7333333333333334, lift=0.9166666666666667)]), RelationRecord(items=frozenset({'Milk', 'Wine'}), support=0.65, ordered_statistics=[OrderedStatistic(items_base=frozenset({'Milk'}), items_add=frozenset({'Wine'}), confidence=0.8125, lift=1.0833333333333333), OrderedStatistic(items_base=frozenset({'Wine'}), items_add=frozenset({'Milk'}), confidence=0.8666666666666667, lift=1.0833333333333333)]), RelationRecord(items=frozenset({'nan', 'Milk'}), support=0.6, ordered_statistics=[OrderedStatistic(items_base=frozenset({'Milk'}), items_add=frozenset({'nan'}), confidence=0.7499999999999999, lift=0.9374999999999998), OrderedStatistic(items_base=frozenset({'nan'}), items_add=frozenset({'Milk'}), confidence=0.7499999999999999, lift=0.9374999999999998)]), RelationRecord(items=frozenset({'nan', 'Wine'}), support=0.55, ordered_statistics=[OrderedStatistic(items_base=frozenset({'Wine'}), items_add=frozenset({'nan'}), confidence=0.7333333333333334, lift=0.9166666666666667)]), RelationRecord(items=frozenset({'Butter', 'Milk', 'Bread'}), support=0.55, ordered_statistics=[OrderedStatistic(items_base=frozenset({'Bread'}), items_add=frozenset({'Butter', 'Milk'}), confidence=0.7333333333333334, lift=1.1282051282051282), OrderedStatistic(items_base=frozenset({'Butter'}), items_add=frozenset({'Milk', 'Bread'}), confidence=0.7333333333333334, lift=1.2222222222222223), OrderedStatistic(items_base=frozenset({'Butter', 'Bread'}), items_add=frozenset({'Milk'}), confidence=0.8461538461538461, lift=1.0576923076923077), OrderedStatistic(items_base=frozenset({'Milk', 'Bread'}), items_add=frozenset({'Butter'}), confidence=0.9166666666666667, lift=1.2222222222222223), OrderedStatistic(items_base=frozenset({'Butter', 'Milk'}), items_add=frozenset({'Bread'}), confidence=0.8461538461538461, lift=1.1282051282051282)]), RelationRecord(items=frozenset({'Butter', 'Bread', 'Wine'}), support=0.5, ordered_statistics=[OrderedStatistic(items_base=frozenset({'Butter', 'Bread'}), items_add=frozenset({'Wine'}), confidence=0.7692307692307692, lift=1.0256410256410255), OrderedStatistic(items_base=frozenset({'Bread', 'Wine'}), items_add=frozenset({'Butter'}), confidence=0.8333333333333334, lift=1.1111111111111112), OrderedStatistic(items_base=frozenset({'Butter', 'Wine'}), items_add=frozenset({'Bread'}), confidence=0.9090909090909091, lift=1.2121212121212122)]), RelationRecord(items=frozenset({'Milk', 'Bread', 'Wine'}), support=0.5, ordered_statistics=[OrderedStatistic(items_base=frozenset({'Milk', 'Bread'}), items_add=frozenset({'Wine'}), confidence=0.8333333333333334, lift=1.1111111111111112), OrderedStatistic(items_base=frozenset({'Bread', 'Wine'}), items_add=frozenset({'Milk'}), confidence=0.8333333333333334, lift=1.0416666666666667), OrderedStatistic(items_base=frozenset({'Milk', 'Wine'}), items_add=frozenset({'Bread'}), confidence=0.7692307692307692, lift=1.0256410256410255)]), RelationRecord(items=frozenset({'Butter', 'Milk', 'Wine'}), support=0.5, ordered_statistics=[OrderedStatistic(items_base=frozenset({'Butter', 'Milk'}), items_add=frozenset({'Wine'}), confidence=0.7692307692307692, lift=1.0256410256410255), OrderedStatistic(items_base=frozenset({'Butter', 'Wine'}), items_add=frozenset({'Milk'}), confidence=0.9090909090909091, lift=1.1363636363636362), OrderedStatistic(items_base=frozenset({'Milk', 'Wine'}), items_add=frozenset({'Butter'}), confidence=0.7692307692307692, lift=1.0256410256410255)])]\n"
     ]
    }
   ],
   "source": [
    "import numpy as np\n",
    "import pandas as pd\n",
    "from apyori import apriori\n",
    "\n",
    "store_data = pd.read_csv(\"C:\\\\Users\\\\pravin  bule\\\\Desktop\\\\WM Practical\\\\TransactionData.csv\",header=None)\n",
    "records = []\n",
    "for i in range(0,20):\n",
    "    records.append([str(store_data.values[i,j]) for j in range(0,6)])\n",
    "\n",
    "association_rules = apriori(records, min_support=0.50, min_confidence=0.7)\n",
    "association_results = list(association_rules)\n",
    "\n",
    "print(len(association_results))\n",
    "print(association_results)\n"
   ]
  }
 ],
 "metadata": {
  "kernelspec": {
   "display_name": "Python 3",
   "language": "python",
   "name": "python3"
  },
  "language_info": {
   "codemirror_mode": {
    "name": "ipython",
    "version": 3
   },
   "file_extension": ".py",
   "mimetype": "text/x-python",
   "name": "python",
   "nbconvert_exporter": "python",
   "pygments_lexer": "ipython3",
   "version": "3.11.1"
  },
  "orig_nbformat": 4
 },
 "nbformat": 4,
 "nbformat_minor": 2
}
