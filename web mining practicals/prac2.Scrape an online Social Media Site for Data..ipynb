{
 "cells": [
  {
   "cell_type": "code",
   "execution_count": 1,
   "metadata": {},
   "outputs": [
    {
     "name": "stdout",
     "output_type": "stream",
     "text": [
      "<Response [200]>\n",
      "<Response [200]>\n",
      "[<p>We’ve detected that JavaScript is disabled in this browser. Please enable JavaScript or switch to a supported browser to continue using twitter.com. You can see a list of supported browsers in our Help Center.</p>, <p class=\"errorButton\"><a href=\"https://help.twitter.com/using-twitter/twitter-supported-browsers\">Help Center</a></p>, <p class=\"errorFooter\">\n",
      "<a href=\"https://twitter.com/tos\">Terms of Service</a>\n",
      "<a href=\"https://twitter.com/privacy\">Privacy Policy</a>\n",
      "<a href=\"https://support.twitter.com/articles/20170514\">Cookie Policy</a>\n",
      "<a href=\"https://legal.twitter.com/imprint.html\">Imprint</a>\n",
      "<a href=\"https://business.twitter.com/en/help/troubleshooting/how-twitter-ads-work.html?ref=web-twc-ao-gbl-adsinfo&amp;utm_source=twc&amp;utm_medium=web&amp;utm_campaign=ao&amp;utm_content=adsinfo\">Ads info</a>\n",
      "      © 2023 Twitter, Inc.\n",
      "    </p>]\n"
     ]
    }
   ],
   "source": [
    "import pandas as pd\n",
    "from bs4 import BeautifulSoup\n",
    "import requests\n",
    "\n",
    "url ='https://twitter.com/BillGates?ref_src=twsrc%5Egoogle%7Ctwcamp%5Eserp%7Ctwgr%5Eauthor'\n",
    "response = requests.get(url)\n",
    "print(response)\n",
    "\n",
    "if response.status_code == 200:\n",
    "    print(response)\n",
    "\n",
    "# This will store the HTML content as a stream of bytes:\n",
    "html_content = response.content\n",
    "\n",
    "# This will store the HTML content as a string:\n",
    "html_content_string = response.text\n",
    "\n",
    "soup = BeautifulSoup(html_content, 'html.parser')\n",
    "soup\n",
    "\n",
    "appPromoBanner = soup.find('div', {'class':'css-1dbjc4n'})\n",
    "appPromoBanner\n",
    "\n",
    "all_paragraphs = soup.findAll('p')\n",
    "print(all_paragraphs[0:3])\n"
   ]
  }
 ],
 "metadata": {
  "kernelspec": {
   "display_name": "Python 3",
   "language": "python",
   "name": "python3"
  },
  "language_info": {
   "codemirror_mode": {
    "name": "ipython",
    "version": 3
   },
   "file_extension": ".py",
   "mimetype": "text/x-python",
   "name": "python",
   "nbconvert_exporter": "python",
   "pygments_lexer": "ipython3",
   "version": "3.11.2"
  },
  "orig_nbformat": 4
 },
 "nbformat": 4,
 "nbformat_minor": 2
}
