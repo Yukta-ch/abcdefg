{
 "cells": [
  {
   "cell_type": "code",
   "execution_count": null,
   "metadata": {},
   "outputs": [],
   "source": [
    "import requests\n",
    "from bs4 import BeautifulSoup\n",
    "import pandas as pd\n",
    "\n",
    "url = \"https://webscraper.io/test-sites/e-commerce/allinone/phones/touch\"\n",
    "response = requests.get(url)\n",
    "soup = BeautifulSoup(response.content, \"html.parser\")\n",
    "phones = soup.find_all(\"div\", {\"class\": \"col-sm-4 col-lg-4 col-md-4\"})\n",
    "titles = []\n",
    "prices = []\n",
    "descriptions = []\n",
    "\n",
    "for phone in phones:\n",
    "    title = phone.find(\"a\", {\"class\": \"title\"}).text.strip()\n",
    "    price = phone.find(\"h4\", {\"class\": \"pull-right price\"}).text.strip()\n",
    "    description = phone.find(\"p\", {\"class\": \"description\"}).text.strip()\n",
    "    \n",
    "    titles.append(title)\n",
    "    prices.append(price)\n",
    "    descriptions.append(description)\n",
    "\n",
    "df = pd.DataFrame({\n",
    "    \"Title\": titles,\n",
    "    \"Price\": prices,\n",
    "    \"Description\": descriptions,\n",
    "})\n",
    "\n",
    "print(df)"
   ]
  }
 ],
 "metadata": {
  "language_info": {
   "name": "python"
  },
  "orig_nbformat": 4
 },
 "nbformat": 4,
 "nbformat_minor": 2
}
