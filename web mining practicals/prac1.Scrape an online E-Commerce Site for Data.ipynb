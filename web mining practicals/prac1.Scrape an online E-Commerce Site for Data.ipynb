{
 "cells": [
  {
   "cell_type": "code",
   "execution_count": 1,
   "metadata": {},
   "outputs": [
    {
     "name": "stdout",
     "output_type": "stream",
     "text": [
      "Top positive reviewAll positive reviews› Bhagwant Patil4.0 out of 5 starsGreat iPhone but overpriced.Reviewed in India 🇮🇳 on 2 April 2021I'm writing this review after 1 month of use.Look & feel- premium & satisfyingDisplay- It has OLED display but not much different than previous LCD display of iPhone XR. BOTH ARE STUNNING & elegant. In fact I liked LCD display more.Battery life- Excellent. With heavy use of 2+ hrs of Instagram scrolling 1+ hr of YouTube streaming 2+ hrs of listening to music, battery lasts for a whole day. With moderate use for only calling, texting & some surfing it lasts for 1 & 1/2 day.Camera- amazing shots in daylight. Night mode is great addition. Portrait mode is great in daytime but it doesn't have night mode. Photos loose details after zooming in. Upto 2x zoom is good, after that it's useless.Ultrawide feature is good but didn't used it much. Front camera is okay, could have been better.Performance- Ultrafast & smooth. It had heated a lot when moving data from older phone. Heats when used during charging. Fast charger does its job well.Conclusion- This is a great iPhone but is not a value for money. Overpriced! We can say this about every iPhone. If you are spending this much amount of money you should go for iPhone 12 128GB for about same price but with only 2 snappers which are more than enough. Third snapper in 11 pro doesn't make a difference.If you are waiting for iPhone 13 to be launched & thinking of buying 12 after price drop, then consider iPhone 11 for now - 2 snappers, LCD display(not much different), bigger than pro, value for money.Thanks for reading.\n",
      "\n",
      "\n",
      "Top critical reviewAll critical reviews› Aradhya.inc3.0 out of 5 starsUpto the Mark but not too much change & Battery BlunderReviewed in India 🇮🇳 on 4 October 2019I am always being fan of iOS & Apple Products.Reason:-QualityPerformanceTransparent Customer SupportDesignBuild QualityUpdatesSound QualityPromises too.Going to write review post a week usage.Pros.Display QualityPerformanceSpeedFast chargingCameraEven Selfie camera Quality enhancedTriple camera also good as described.New Color Midnight Green added as a charm.E-SimIP68 better than others.Battery Usage too better then iPhone XS.Durability too.Cons.No 3D Touch.Old Headphones no changesIn india its too much expensiveHeating issueWhile charging please don’t use it bcz thereafter you can fry an egg on it 😂.Low Screen Refresh Rate.Just 10-20% better than iPhone XS.Camera fails in lighting, ma be apple sort-out this in next update.I am giving :-Screen 4/5Design 5/5Performance 4/5 (Heating)Sound 5/5Price 3/5 (too much expensive)Customer Support 5/5Now battery life falls to 84% in Just 400 Charges.Amazon Delivery 3/5 (i am not satisfied bcz they not delivered the product as per promise.Soon i’ll publish the pics shoots on iPhone 11 Pro.Thanks for Reading.\n",
      "\n",
      "\n"
     ]
    }
   ],
   "source": [
    "import sys\n",
    "import time\n",
    "from bs4 import BeautifulSoup\n",
    "import requests\n",
    "import pandas as pd\n",
    "\n",
    "try:\n",
    "    # use the browser to get the url. This is suspicious command that might blow up.\n",
    "    url = \"https://www.amazon.in/Apple-iPhone-11-Pro-256GB/product-reviews/B07XVMJF2D/ref=cm_cr_dp_d_show_all_btm?ie=UTF8&reviewerType=all_reviews\"\n",
    "\n",
    "    page=requests.get(url)\n",
    "except Exception as e:\n",
    "    error_type, error_obj, error_info = sys.exc_info()\n",
    "    print ('ERROR FOR LINK:',url)\n",
    "    print (error_type, 'Line:', error_info.tb_lineno)\n",
    "\n",
    "time.sleep(2)\n",
    "soup = BeautifulSoup(page.text, 'html.parser')\n",
    "links = soup.find_all('div', attrs={'class': 'a-expander-content a-expander-partial-collapse-content'})\n",
    "\n",
    "soup\n",
    "links\n",
    "\n",
    "for i in links:\n",
    "    print(i.text)\n",
    "    print(\"\\n\")\n",
    "\n",
    "\n",
    "\n"
   ]
  }
 ],
 "metadata": {
  "kernelspec": {
   "display_name": "Python 3",
   "language": "python",
   "name": "python3"
  },
  "language_info": {
   "codemirror_mode": {
    "name": "ipython",
    "version": 3
   },
   "file_extension": ".py",
   "mimetype": "text/x-python",
   "name": "python",
   "nbconvert_exporter": "python",
   "pygments_lexer": "ipython3",
   "version": "3.11.2"
  },
  "orig_nbformat": 4
 },
 "nbformat": 4,
 "nbformat_minor": 2
}
