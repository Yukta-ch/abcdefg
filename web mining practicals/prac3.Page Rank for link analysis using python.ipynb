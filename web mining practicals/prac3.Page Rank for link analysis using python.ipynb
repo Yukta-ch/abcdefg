{
 "cells": [
  {
   "cell_type": "code",
   "execution_count": 6,
   "metadata": {},
   "outputs": [
    {
     "name": "stdout",
     "output_type": "stream",
     "text": [
      "PageRank using Random Walk Method\n",
      "[2 0 3 1]\n"
     ]
    }
   ],
   "source": [
    "import networkx as nx\n",
    "import random\n",
    "import numpy as np\n",
    "\n",
    "# Add directed edges in graph\n",
    "def add_edges(g, pr):\n",
    "    for each in g.nodes():\n",
    "        for each1 in g.nodes():\n",
    "            if (each != each1):\n",
    "                ra = random.random()\n",
    "                if (ra < pr):\n",
    "                    g.add_edge(each, each1)\n",
    "                else:\n",
    "                    continue\n",
    "    return g\n",
    "\n",
    "# Sort the nodes\n",
    "def nodes_sorted(g, points):\n",
    "    t = np.array(points)\n",
    "    t = np.argsort(-t)\n",
    "    return t\n",
    "\n",
    "# Distribute points randomly in a graph\n",
    "def random_Walk(g):\n",
    "    rwp = [0 for i in range(g.number_of_nodes())]\n",
    "    nodes = list(g.nodes())\n",
    "    r = random.choice(nodes)\n",
    "    rwp[r] += 1\n",
    "    neigh = list(g.out_edges(r))\n",
    "    z = 0\n",
    "    while (z != 10000):\n",
    "        if (len(neigh) == 0):\n",
    "            focus = random.choice(nodes)\n",
    "        else:\n",
    "            r1 = random.choice(neigh)\n",
    "            focus = r1[1]\n",
    "            rwp[focus] += 1\n",
    "            neigh = list(g.out_edges(focus))\n",
    "        z += 1\n",
    "    return rwp\n",
    "\n",
    "# Main\n",
    "# 1. Create a directed graph with N nodes\n",
    "g = nx.DiGraph()\n",
    "N = 4\n",
    "g.add_nodes_from(range(N))\n",
    "\n",
    "# 2. Add directed edges in graph\n",
    "g = add_edges(g, 0.4)\n",
    "\n",
    "# 3. perform a random walk\n",
    "points = random_Walk(g)\n",
    "\n",
    "# 4. Get nodes rank according to their random walk points\n",
    "sorted_by_points = nodes_sorted(g, points)\n",
    "\n",
    "print(\"PageRank using Random Walk Method\")\n",
    "print(sorted_by_points)\n"
   ]
  }
 ],
 "metadata": {
  "kernelspec": {
   "display_name": "Python 3",
   "language": "python",
   "name": "python3"
  },
  "language_info": {
   "codemirror_mode": {
    "name": "ipython",
    "version": 3
   },
   "file_extension": ".py",
   "mimetype": "text/x-python",
   "name": "python",
   "nbconvert_exporter": "python",
   "pygments_lexer": "ipython3",
   "version": "3.11.2"
  },
  "orig_nbformat": 4
 },
 "nbformat": 4,
 "nbformat_minor": 2
}
